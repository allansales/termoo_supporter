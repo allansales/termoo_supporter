{
 "cells": [
  {
   "cell_type": "code",
   "execution_count": 1,
   "id": "d8d1fe13-48f5-49f6-9a94-31bc8c5af7c3",
   "metadata": {},
   "outputs": [],
   "source": [
    "from gensim.utils import deaccent"
   ]
  },
  {
   "cell_type": "code",
   "execution_count": 2,
   "id": "c7622f31-85cc-4646-806b-c40f9df5b280",
   "metadata": {},
   "outputs": [],
   "source": [
    "filename = \"portuguese-brazil-dic.txt\""
   ]
  },
  {
   "cell_type": "code",
   "execution_count": 3,
   "id": "ee65bed6-59f1-41da-ae39-3ef256edeedc",
   "metadata": {},
   "outputs": [],
   "source": [
    "def preprocess_word(x):\n",
    "    x = deaccent(x.rstrip().lower())\n",
    "    return(x, len(x))"
   ]
  },
  {
   "cell_type": "code",
   "execution_count": 4,
   "id": "1ca98083-a149-4796-9bf9-4a12cfe5a669",
   "metadata": {},
   "outputs": [],
   "source": [
    "with open(filename) as file:\n",
    "    word_len = [preprocess_word(word) for word in file]"
   ]
  },
  {
   "cell_type": "code",
   "execution_count": 5,
   "id": "9612e985-99b9-43a8-9d27-04d157d23c8f",
   "metadata": {},
   "outputs": [],
   "source": [
    "portuguese_vocab = {}\n",
    "for w, l in word_len:\n",
    "    if l in portuguese_vocab.keys():\n",
    "        portuguese_vocab[l].append(w)\n",
    "    else:\n",
    "        portuguese_vocab[l] = [w]"
   ]
  },
  {
   "cell_type": "code",
   "execution_count": 6,
   "id": "2b5f9105-9dec-4491-bb98-00a58d3bd87f",
   "metadata": {},
   "outputs": [],
   "source": [
    "def find_possible_words(words_list, **kwargs):\n",
    "    comeca_com = kwargs.get('comeca_com') # string\n",
    "    termina_com = kwargs.get('termina_com') # string\n",
    "    contem_sem_posicao = kwargs.get('contem_sem_posicao') # list e.g., ['a','l']\n",
    "    nao_contem = kwargs.get('nao_contem') # list e.g., ['m','p']\n",
    "    contem_na_posicao = kwargs.get('contem_na_posicao') # list of lists. e.g., [['a',0],['l',1]]\n",
    "    \n",
    "    possible_solutions_list = []\n",
    "    nao_contem_list = []\n",
    "    if comeca_com is not None:\n",
    "        comeca_com_list = [w for w in words_list if w.startswith(comeca_com)]\n",
    "        possible_solutions_list.append(comeca_com_list)\n",
    "        \n",
    "    if termina_com is not None:\n",
    "        termina_com_list = [w for w in words_list if w.endswith(termina_com)]\n",
    "        possible_solutions_list.append(termina_com_list)\n",
    "        \n",
    "    if contem_sem_posicao is not None:\n",
    "        contem_sem_posicao_list = [w for w in words_list if all(letter in w for letter in contem_sem_posicao)]\n",
    "        possible_solutions_list.append(contem_sem_posicao_list)\n",
    "        \n",
    "    if contem_na_posicao is not None:\n",
    "        contem_na_posicao_list = [w for w in words_list if all(w[p:(p+len(l))] == l for l, p in contem_na_posicao)]\n",
    "        possible_solutions_list.append(contem_na_posicao_list)\n",
    "        \n",
    "    if nao_contem is not None:\n",
    "        nao_contem_list = [w for w in words_list if any(letter in w for letter in nao_contem)]\n",
    "    \n",
    "    possible_solutions = set.intersection(*map(set,possible_solutions_list))\n",
    "    \n",
    "    if nao_contem_list is not None:\n",
    "        possible_solutions = possible_solutions.difference(nao_contem_list)\n",
    "    \n",
    "    return(possible_solutions)"
   ]
  },
  {
   "cell_type": "code",
   "execution_count": 7,
   "id": "6e7bc105-83d3-40d7-a140-a0f91da86836",
   "metadata": {},
   "outputs": [
    {
     "data": {
      "text/plain": [
       "{'sacio', 'sadio', 'sagio', 'samio', 'sanio', 'savio'}"
      ]
     },
     "execution_count": 7,
     "metadata": {},
     "output_type": "execute_result"
    }
   ],
   "source": [
    "find_possible_words(portuguese_vocab[5], contem_na_posicao=[['o',4],['a',1],['s',0],['i',3]], nao_contem=['b','f','t','e','l','p'])"
   ]
  }
 ],
 "metadata": {
  "kernelspec": {
   "display_name": "Python 3 (ipykernel)",
   "language": "python",
   "name": "python3"
  },
  "language_info": {
   "codemirror_mode": {
    "name": "ipython",
    "version": 3
   },
   "file_extension": ".py",
   "mimetype": "text/x-python",
   "name": "python",
   "nbconvert_exporter": "python",
   "pygments_lexer": "ipython3",
   "version": "3.9.7"
  }
 },
 "nbformat": 4,
 "nbformat_minor": 5
}
